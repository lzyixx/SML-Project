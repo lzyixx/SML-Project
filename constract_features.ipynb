{
 "cells": [
  {
   "cell_type": "markdown",
   "id": "8a8b27f2",
   "metadata": {},
   "source": [
    "# Divide date to dayofmonth, year, month"
   ]
  },
  {
   "cell_type": "code",
   "execution_count": 62,
   "id": "3ba10d80",
   "metadata": {},
   "outputs": [],
   "source": [
    "import pandas as pd\n",
    "\n",
    "df = pd.read_csv(\"cleaned_melbourne_housing.csv\")\n",
    "\n",
    "df[\"Date\"] = pd.to_datetime(df[\"Date\"], errors=\"coerce\", dayfirst=True)\n",
    "\n",
    "df[\"Year\"] = df[\"Date\"].dt.year\n",
    "df[\"Month\"] = df[\"Date\"].dt.month\n",
    "df[\"Day\"] = df[\"Date\"].dt.day\n",
    "\n",
    "df = df.drop(columns=[\"Date\"])"
   ]
  },
  {
   "cell_type": "markdown",
   "id": "b861bad4",
   "metadata": {},
   "source": [
    "# Mapping suburb to suburb_id"
   ]
  },
  {
   "cell_type": "code",
   "execution_count": 63,
   "id": "16697e82",
   "metadata": {},
   "outputs": [],
   "source": [
    "df[\"Suburb_ID\"], suburb_index = pd.factorize(df[\"Suburb\"])\n",
    "\n",
    "suburb_map = pd.DataFrame({\n",
    "    \"Suburb\": suburb_index,\n",
    "    \"Suburb_ID\": range(len(suburb_index))\n",
    "})\n",
    "\n",
    "\n",
    "df = df.drop(columns=[\"Suburb\"])"
   ]
  },
  {
   "cell_type": "code",
   "execution_count": 64,
   "id": "781e8547",
   "metadata": {},
   "outputs": [],
   "source": [
    "# divide address to unitnumber and streettype\n",
    "df[\"UnitNumber\"] = df[\"Address\"].str.extract(r\"^([\\dA-Za-z/]+)\")\n",
    "# df[\"StreetType\"] = df[\"Address\"].str.extract(r\"\\b([A-Za-z]+)$\")\n",
    "\n",
    "\n",
    "df = df.drop(columns=[\"Address\"])"
   ]
  },
  {
   "cell_type": "code",
   "execution_count": 65,
   "id": "ed3ba9c6",
   "metadata": {},
   "outputs": [],
   "source": [
    "# divide region to north east south and west\n",
    "\n",
    "region_map = {\n",
    "    \"Eastern Metropolitan\": \"East\",\n",
    "    \"South-Eastern Metropolitan\": \"South\",\n",
    "    \"Southern Metropolitan\": \"South\",\n",
    "    \"Western Metropolitan\": \"West\",\n",
    "    \"Northern Metropolitan\": \"North\",\n",
    "    \"Eastern Victoria\": \"East\",\n",
    "    \"Western Victoria\": \"West\",\n",
    "    \"Northern Victoria\": \"North\"\n",
    "}\n",
    "df[\"Direction\"] = df[\"Regionname\"].map(region_map)"
   ]
  },
  {
   "cell_type": "markdown",
   "id": "ce4403fd",
   "metadata": {},
   "source": [
    "# One hot to deal with CouncilArea,Method,Regionname and ParkingArea. Drop Address and SellerG features"
   ]
  },
  {
   "cell_type": "code",
   "execution_count": 66,
   "id": "04c543da",
   "metadata": {},
   "outputs": [
    {
     "data": {
      "text/plain": [
       "(27244, 94)"
      ]
     },
     "execution_count": 66,
     "metadata": {},
     "output_type": "execute_result"
    }
   ],
   "source": [
    "df = pd.get_dummies(df, columns=[\"CouncilArea\"], prefix=\"CouncilArea\")\n",
    "df = pd.get_dummies(df, columns=[\"Method\"], prefix=\"Method\")\n",
    "df = pd.get_dummies(df, columns=[\"Regionname\"], prefix=\"Regionname\")\n",
    "df = pd.get_dummies(df, columns=[\"ParkingArea\"], prefix=\"ParkingArea\")\n",
    "# df = pd.get_dummies(df, columns=[\"StreetType\"], prefix=\"StreetType\")\n",
    "df = pd.get_dummies(df, columns=[\"Direction\"])\n",
    "\n",
    "df = df.drop(columns=[\"SellerG\"])\n",
    "\n",
    "df.shape\n"
   ]
  },
  {
   "cell_type": "markdown",
   "id": "aa8ce945",
   "metadata": {},
   "source": [
    "# Using polynomial to constract features"
   ]
  },
  {
   "cell_type": "code",
   "execution_count": 67,
   "id": "4bb4e1b7",
   "metadata": {},
   "outputs": [
    {
     "data": {
      "text/plain": [
       "109"
      ]
     },
     "execution_count": 67,
     "metadata": {},
     "output_type": "execute_result"
    }
   ],
   "source": [
    "from sklearn.preprocessing import PolynomialFeatures\n",
    "\n",
    "poly_cols = ['Rooms', 'Bedroom', 'Bathroom', 'Distance','Propertycount']\n",
    "poly = PolynomialFeatures(degree=2, include_bias=False)\n",
    "poly_features = poly.fit_transform(df[poly_cols])\n",
    "poly_feature_names = poly.get_feature_names_out(poly_cols)\n",
    "\n",
    "df_poly = pd.DataFrame(poly_features, columns=poly_feature_names)\n",
    "df_poly = df_poly.drop(columns=poly_cols)\n",
    "df = pd.concat([df, df_poly], axis=1)\n",
    "\n",
    "df.shape[1]"
   ]
  },
  {
   "cell_type": "markdown",
   "id": "46debcb6",
   "metadata": {},
   "source": [
    "# Convert all bool values to int and save the csv file"
   ]
  },
  {
   "cell_type": "code",
   "execution_count": 68,
   "id": "836924a7",
   "metadata": {},
   "outputs": [
    {
     "data": {
      "text/plain": [
       "(27244, 109)"
      ]
     },
     "execution_count": 68,
     "metadata": {},
     "output_type": "execute_result"
    }
   ],
   "source": [
    "df[\"Type_h\"].dtype == bool\n",
    "\n",
    "features = df.columns\n",
    "\n",
    "for f in features:\n",
    "    if df[f].dtype == bool:\n",
    "        df[f] = df[f].astype(int)\n",
    "\n",
    "\n",
    "        \n",
    "df.to_csv(\"dataset.csv\",index=False)\n",
    "\n",
    "df.shape"
   ]
  }
 ],
 "metadata": {
  "kernelspec": {
   "display_name": "python121",
   "language": "python",
   "name": "python3"
  },
  "language_info": {
   "codemirror_mode": {
    "name": "ipython",
    "version": 3
   },
   "file_extension": ".py",
   "mimetype": "text/x-python",
   "name": "python",
   "nbconvert_exporter": "python",
   "pygments_lexer": "ipython3",
   "version": "3.12.9"
  }
 },
 "nbformat": 4,
 "nbformat_minor": 5
}
