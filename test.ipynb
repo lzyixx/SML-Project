{
 "cells": [
  {
   "cell_type": "code",
   "execution_count": 43,
   "id": "69b5831b",
   "metadata": {},
   "outputs": [
    {
     "data": {
      "text/plain": [
       "(0.5977961432506887, 0.4022038567493113)"
      ]
     },
     "execution_count": 43,
     "metadata": {},
     "output_type": "execute_result"
    }
   ],
   "source": [
    "import numpy as np\n",
    "import torch\n",
    "from temporal_cross_validation import temporal_random_split_by_horizon\n",
    "\n",
    "\n",
    "# load train and test dataset\n",
    "_,_,vali_samples = temporal_random_split_by_horizon(train_size=0.8, test_size=0.2, random_seed=42)\n",
    "\n",
    "\n",
    "X_vali = vali_samples.drop(columns=[\"UpDown_next\"]).values\n",
    "y_vali = vali_samples[\"UpDown_next\"].values\n",
    "# 转成 Tensor\n",
    "X_vali = torch.tensor(X_vali, dtype=torch.float32)\n",
    "y_vali = torch.tensor(y_vali, dtype=torch.long)\n",
    "\n",
    "\n",
    "def coin_flip_predict(y_true,random_seed):\n",
    "    \"\"\"\n",
    "    输入: y_true (Tensor 或 numpy array)，真实标签\n",
    "    输出: 随机预测标签 (0/1)\n",
    "    \"\"\"\n",
    "    n = len(y_true)\n",
    "    np.random.seed(random_seed)\n",
    "    y_pred = np.random.choice([0,1], size=n)\n",
    "    acc = np.mean(y_pred == y_true.numpy())\n",
    "    return acc, y_pred\n",
    "\n",
    "acc_list = []\n",
    "# 测试集随机预测\n",
    "for i in range(10000):\n",
    "    acc, _ = coin_flip_predict(y_vali,i)\n",
    "    acc_list.append(acc)\n",
    "\n",
    "max(acc_list),min(acc_list)"
   ]
  }
 ],
 "metadata": {
  "kernelspec": {
   "display_name": "python121",
   "language": "python",
   "name": "python3"
  },
  "language_info": {
   "codemirror_mode": {
    "name": "ipython",
    "version": 3
   },
   "file_extension": ".py",
   "mimetype": "text/x-python",
   "name": "python",
   "nbconvert_exporter": "python",
   "pygments_lexer": "ipython3",
   "version": "3.12.9"
  }
 },
 "nbformat": 4,
 "nbformat_minor": 5
}
