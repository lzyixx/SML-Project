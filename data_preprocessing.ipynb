{
 "cells": [
  {
   "cell_type": "markdown",
   "id": "94d87e11",
   "metadata": {},
   "source": [
    "# Read data from csv file"
   ]
  },
  {
   "cell_type": "code",
   "execution_count": 87,
   "id": "213a7af2",
   "metadata": {},
   "outputs": [
    {
     "name": "stderr",
     "output_type": "stream",
     "text": [
      "/var/folders/f1/_ppmdg_16qx17dhgz3ls8g440000gn/T/ipykernel_95146/4038133987.py:4: DtypeWarning: Columns (13) have mixed types. Specify dtype option on import or set low_memory=False.\n",
      "  df = pd.read_csv(\"Melbourne_Housing.csv\")\n"
     ]
    },
    {
     "data": {
      "text/plain": [
       "(34857, 22)"
      ]
     },
     "execution_count": 87,
     "metadata": {},
     "output_type": "execute_result"
    }
   ],
   "source": [
    "import pandas as pd\n",
    "import numpy as np\n",
    "\n",
    "df = pd.read_csv(\"Melbourne_Housing.csv\")\n",
    "\n",
    "df.shape"
   ]
  },
  {
   "cell_type": "markdown",
   "id": "23a2f406",
   "metadata": {},
   "source": [
    "# Check missing data in csv file"
   ]
  },
  {
   "cell_type": "code",
   "execution_count": 88,
   "id": "d28f642a",
   "metadata": {},
   "outputs": [
    {
     "name": "stdout",
     "output_type": "stream",
     "text": [
      "The number of column with missing values 13\n",
      "               Missing Count  Missing %\n",
      "BuildingArea           21115      60.58\n",
      "YearBuilt              19306      55.39\n",
      "Landsize               11810      33.88\n",
      "Car                     8728      25.04\n",
      "Bathroom                8226      23.60\n",
      "Bedroom                 8217      23.57\n",
      "Latitude                7976      22.88\n",
      "Longtitude              7976      22.88\n",
      "Price                   7610      21.83\n",
      "CouncilArea                3       0.01\n",
      "Propertycount              3       0.01\n",
      "Distance                   1       0.00\n",
      "Postcode                   1       0.00\n"
     ]
    }
   ],
   "source": [
    "def check_missing_value(data):\n",
    "    missing_like_values = [\n",
    "        \"NaN\", \"nan\", \"NA\", \"N/A\", \"na\", \"null\", \"Null\", \"NULL\",\n",
    "        \"missing\", \"Missing\", \"MISSING\", \"inf\", \"Inf\", \"INF\", \"∞\", \"-inf\"\n",
    "    ]\n",
    "    # replace all missing value to NaN\n",
    "    df = data.replace(missing_like_values, np.nan)\n",
    "    df = df.replace([np.inf, -np.inf], np.nan)\n",
    "\n",
    "    # check how many column with mssing values\n",
    "    missing_count = df.isna().sum()\n",
    "    missing_percent = (missing_count / len(df)) * 100\n",
    "\n",
    "    # display all features with missing value and missing persentages\n",
    "    missing_table = (\n",
    "        pd.DataFrame({\n",
    "            \"Missing Count\": missing_count[missing_count > 0],\n",
    "            \"Missing %\": missing_percent[missing_percent > 0].round(2)\n",
    "        })\n",
    "        .sort_values(by=\"Missing %\", ascending=False)\n",
    "    )\n",
    "\n",
    "    print(\"The number of column with missing values\", len(missing_table))\n",
    "    print(missing_table.head(df.shape[1]))\n",
    "\n",
    "check_missing_value(df)"
   ]
  },
  {
   "cell_type": "markdown",
   "id": "b4f1f4a8",
   "metadata": {},
   "source": [
    "# Delete all data with missing value for councilarea,propertycount,distance,postcode and price"
   ]
  },
  {
   "cell_type": "code",
   "execution_count": 89,
   "id": "1055f714",
   "metadata": {},
   "outputs": [
    {
     "name": "stdout",
     "output_type": "stream",
     "text": [
      "The number of column with missing values 8\n",
      "              Missing Count  Missing %\n",
      "BuildingArea          16588      60.89\n",
      "YearBuilt             15160      55.65\n",
      "Landsize               9262      34.00\n",
      "Car                    6821      25.04\n",
      "Bathroom               6444      23.65\n",
      "Bedroom                6438      23.63\n",
      "Latitude               6251      22.94\n",
      "Longtitude             6251      22.94\n"
     ]
    },
    {
     "data": {
      "text/plain": [
       "(27244, 22)"
      ]
     },
     "execution_count": 89,
     "metadata": {},
     "output_type": "execute_result"
    }
   ],
   "source": [
    "cols_to_drop_na = [\"Price\", \"CouncilArea\", \"Propertycount\", \"Distance\", \"Postcode\"]\n",
    "df = df.dropna(subset=cols_to_drop_na)\n",
    "\n",
    "check_missing_value(df)\n",
    "df.shape"
   ]
  },
  {
   "cell_type": "markdown",
   "id": "58a129c1",
   "metadata": {},
   "source": [
    "# Using mean value of Latitude and Longtiitude in same suburb and regionname fill in the msissing value"
   ]
  },
  {
   "cell_type": "code",
   "execution_count": 90,
   "id": "75814291",
   "metadata": {},
   "outputs": [
    {
     "name": "stdout",
     "output_type": "stream",
     "text": [
      "The number of column with missing values 6\n",
      "              Missing Count  Missing %\n",
      "BuildingArea          16588      60.89\n",
      "YearBuilt             15160      55.65\n",
      "Landsize               9262      34.00\n",
      "Car                    6821      25.04\n",
      "Bathroom               6444      23.65\n",
      "Bedroom                6438      23.63\n"
     ]
    },
    {
     "name": "stderr",
     "output_type": "stream",
     "text": [
      "/var/folders/f1/_ppmdg_16qx17dhgz3ls8g440000gn/T/ipykernel_95146/2960651673.py:11: FutureWarning: A value is trying to be set on a copy of a DataFrame or Series through chained assignment using an inplace method.\n",
      "The behavior will change in pandas 3.0. This inplace method will never work because the intermediate object on which we are setting values always behaves as a copy.\n",
      "\n",
      "For example, when doing 'df[col].method(value, inplace=True)', try using 'df.method({col: value}, inplace=True)' or df[col] = df[col].method(value) instead, to perform the operation inplace on the original object.\n",
      "\n",
      "\n",
      "  df[\"Latitude\"].fillna(df[\"Latitude\"].mean(), inplace=True)\n",
      "/var/folders/f1/_ppmdg_16qx17dhgz3ls8g440000gn/T/ipykernel_95146/2960651673.py:12: FutureWarning: A value is trying to be set on a copy of a DataFrame or Series through chained assignment using an inplace method.\n",
      "The behavior will change in pandas 3.0. This inplace method will never work because the intermediate object on which we are setting values always behaves as a copy.\n",
      "\n",
      "For example, when doing 'df[col].method(value, inplace=True)', try using 'df.method({col: value}, inplace=True)' or df[col] = df[col].method(value) instead, to perform the operation inplace on the original object.\n",
      "\n",
      "\n",
      "  df[\"Longtitude\"].fillna(df[\"Longtitude\"].mean(), inplace=True)\n"
     ]
    }
   ],
   "source": [
    "# using suburb and regionname group mean value to fill in nan values\n",
    "df[\"Latitude\"] = df.groupby([\"Suburb\", \"Regionname\"])[\"Latitude\"].transform(\n",
    "    lambda x: x.fillna(x.mean())\n",
    ")\n",
    "\n",
    "df[\"Longtitude\"] = df.groupby([\"Suburb\", \"Regionname\"])[\"Longtitude\"].transform(\n",
    "    lambda x: x.fillna(x.mean())\n",
    ")\n",
    "\n",
    "# some combination still have missing value\n",
    "df[\"Latitude\"].fillna(df[\"Latitude\"].mean(), inplace=True)\n",
    "df[\"Longtitude\"].fillna(df[\"Longtitude\"].mean(), inplace=True)\n",
    "\n",
    "check_missing_value(df)\n"
   ]
  },
  {
   "cell_type": "markdown",
   "id": "b3c2eced",
   "metadata": {},
   "source": [
    "# Fill in missing value in bedroom and Bathroom"
   ]
  },
  {
   "cell_type": "code",
   "execution_count": 91,
   "id": "984244a8",
   "metadata": {},
   "outputs": [
    {
     "name": "stdout",
     "output_type": "stream",
     "text": [
      "Bedroom\n",
      "0.0     0.937500\n",
      "1.0     1.015385\n",
      "2.0     1.142036\n",
      "3.0     1.487890\n",
      "4.0     2.058564\n",
      "5.0     2.685336\n",
      "6.0     3.054545\n",
      "7.0     3.000000\n",
      "8.0     3.777778\n",
      "9.0     7.000000\n",
      "10.0    6.000000\n",
      "12.0    5.000000\n",
      "16.0    8.000000\n",
      "20.0    1.000000\n",
      "Name: Bathroom, dtype: float64\n"
     ]
    },
    {
     "name": "stderr",
     "output_type": "stream",
     "text": [
      "/var/folders/f1/_ppmdg_16qx17dhgz3ls8g440000gn/T/ipykernel_95146/2391169290.py:2: FutureWarning: A value is trying to be set on a copy of a DataFrame or Series through chained assignment using an inplace method.\n",
      "The behavior will change in pandas 3.0. This inplace method will never work because the intermediate object on which we are setting values always behaves as a copy.\n",
      "\n",
      "For example, when doing 'df[col].method(value, inplace=True)', try using 'df.method({col: value}, inplace=True)' or df[col] = df[col].method(value) instead, to perform the operation inplace on the original object.\n",
      "\n",
      "\n",
      "  df[\"Bedroom\"].fillna(df[\"Rooms\"], inplace=True)\n"
     ]
    },
    {
     "name": "stdout",
     "output_type": "stream",
     "text": [
      "The number of column with missing values 4\n",
      "              Missing Count  Missing %\n",
      "BuildingArea          16588      60.89\n",
      "YearBuilt             15160      55.65\n",
      "Landsize               9262      34.00\n",
      "Car                    6821      25.04\n"
     ]
    }
   ],
   "source": [
    "# using rooms number fill in missing value in bedroom\n",
    "df[\"Bedroom\"].fillna(df[\"Rooms\"], inplace=True)\n",
    "\n",
    "# group by bedroom，calculate avg for bathroom\n",
    "bedroom_group_mean = df.groupby(\"Bedroom\")[\"Bathroom\"].mean()\n",
    "\n",
    "print(bedroom_group_mean)\n",
    "\n",
    "df[\"Bathroom\"] = df.groupby([\"Bedroom\"])[\"Bathroom\"].transform(\n",
    "    lambda x: x.fillna(x.mean())\n",
    ")\n",
    "\n",
    "check_missing_value(df)"
   ]
  },
  {
   "cell_type": "markdown",
   "id": "f8e952c1",
   "metadata": {},
   "source": [
    "# Tempory store data"
   ]
  },
  {
   "cell_type": "code",
   "execution_count": 92,
   "id": "1becb335",
   "metadata": {},
   "outputs": [],
   "source": [
    "df.to_csv(\"cleaned_melbourne_housing.csv\", index=False)"
   ]
  },
  {
   "cell_type": "markdown",
   "id": "ab6f894d",
   "metadata": {},
   "source": [
    "# View the car value distribution"
   ]
  },
  {
   "cell_type": "code",
   "execution_count": 93,
   "id": "1f408f11",
   "metadata": {},
   "outputs": [
    {
     "data": {
      "image/png": "[encoded data removed]",
      "text/plain": [
       "<Figure size 1000x600 with 1 Axes>"
      ]
     },
     "metadata": {},
     "output_type": "display_data"
    }
   ],
   "source": [
    "import pandas as pd\n",
    "import matplotlib.pyplot as plt\n",
    "\n",
    "\n",
    "df = pd.read_csv(\"cleaned_melbourne_housing.csv\")\n",
    "\n",
    "# delete missing value\n",
    "car_series = df[\"Car\"].dropna()\n",
    "\n",
    "# store persentage\n",
    "counts = car_series.value_counts().sort_index()\n",
    "percentages = (counts / counts.sum() * 100).round(4)\n",
    "\n",
    "# plot value distribution\n",
    "plt.figure(figsize=(10, 6))\n",
    "bars = plt.bar(counts.index.astype(str), counts.values)\n",
    "\n",
    "for bar, pct in zip(bars, percentages):\n",
    "    plt.text(\n",
    "        bar.get_x() + bar.get_width() / 2,      \n",
    "        bar.get_height(),                       \n",
    "        f\"{pct}%\",                              \n",
    "        ha=\"center\", va=\"bottom\"\n",
    "    )\n",
    "\n",
    "plt.title(\"Distribution of Car values (with percentage)\", fontsize=13)\n",
    "plt.xlabel(\"Number of Cars\")\n",
    "plt.ylabel(\"Count\")\n",
    "plt.show()\n"
   ]
  },
  {
   "cell_type": "markdown",
   "id": "e132ddbd",
   "metadata": {},
   "source": [
    "# View the distribution for type "
   ]
  },
  {
   "cell_type": "code",
   "execution_count": 94,
   "id": "8d4c4fe7",
   "metadata": {},
   "outputs": [
    {
     "name": "stdout",
     "output_type": "stream",
     "text": [
      "Car    0.0    1.0    2.0    3.0\n",
      "Type                           \n",
      "h     6.85  26.39  51.64  15.11\n",
      "t     1.27  41.53  54.34   2.85\n",
      "u     5.11  77.25  16.54   1.09\n"
     ]
    },
    {
     "data": {
      "image/png": "[encoded data removed]",
      "text/plain": [
       "<Figure size 800x500 with 1 Axes>"
      ]
     },
     "metadata": {},
     "output_type": "display_data"
    }
   ],
   "source": [
    "df = df[[\"Type\", \"Car\"]].dropna()\n",
    "df.loc[df[\"Car\"] >= 3, \"Car\"] = 3  # all greater than 3 using 3 instead\n",
    "\n",
    "ratio_table = (\n",
    "    df.groupby(\"Type\")[\"Car\"]\n",
    "    .value_counts(normalize=True)\n",
    "    .rename(\"Proportion\")\n",
    "    .mul(100)\n",
    "    .round(2)\n",
    "    .unstack(fill_value=0)\n",
    ")\n",
    "\n",
    "print(ratio_table)\n",
    "\n",
    "import matplotlib.pyplot as plt\n",
    "\n",
    "ratio_table.plot(\n",
    "    kind=\"bar\",\n",
    "    stacked=True,\n",
    "    figsize=(8, 5),\n",
    ")\n",
    "\n",
    "plt.title(\"Proportion of Car Counts across Different House Types\")\n",
    "plt.xlabel(\"House Type\")\n",
    "plt.ylabel(\"Percentage (%)\")\n",
    "plt.legend(title=\"Number of Cars\", bbox_to_anchor=(1.05, 1), loc=\"upper left\")\n",
    "plt.grid(False)\n",
    "plt.show()"
   ]
  },
  {
   "cell_type": "markdown",
   "id": "130b7028",
   "metadata": {},
   "source": [
    "# Train a linear regression model to predict car value and verify performance"
   ]
  },
  {
   "cell_type": "code",
   "execution_count": 95,
   "id": "5dc998fc",
   "metadata": {},
   "outputs": [
    {
     "name": "stdout",
     "output_type": "stream",
     "text": [
      "MAE: 0.516\n",
      "RMSE: 0.676\n",
      "R²: 0.245\n",
      "Lor predict accuracy: 59.143 %\n"
     ]
    },
    {
     "name": "stderr",
     "output_type": "stream",
     "text": [
      "/opt/anaconda3/envs/python121/lib/python3.12/site-packages/sklearn/linear_model/_logistic.py:1272: FutureWarning: 'multi_class' was deprecated in version 1.5 and will be removed in 1.7. From then on, it will always use 'multinomial'. Leave it to its default value to avoid this warning.\n",
      "  warnings.warn(\n"
     ]
    }
   ],
   "source": [
    "import pandas as pd\n",
    "from sklearn.model_selection import train_test_split\n",
    "from sklearn.linear_model import LinearRegression\n",
    "from sklearn.metrics import mean_absolute_error, mean_squared_error, r2_score\n",
    "from sklearn.linear_model import LogisticRegression\n",
    "from sklearn.metrics import classification_report, confusion_matrix\n",
    "from sklearn.preprocessing import StandardScaler\n",
    "import numpy as np\n",
    "\n",
    "def predict_car_with_LR(data):\n",
    "    features = [\"Rooms\", \"Bedroom\", \"Bathroom\", \"Type\",\"Distance\", \"Price\"]\n",
    "    target = \"Car\"\n",
    "\n",
    "    # drop missing values\n",
    "    data = data[features + [target]].dropna().copy()\n",
    "\n",
    "\n",
    "    # using one hot preprocess type values\n",
    "    data = pd.get_dummies(data, columns=[\"Type\"])\n",
    "\n",
    "    \n",
    "    X = data.drop(columns=[target])\n",
    "    y = data[\"Car\"]\n",
    "    X_train, X_test, y_train, y_test = train_test_split(X, y, test_size=0.2, random_state=42)\n",
    "\n",
    "    model = LinearRegression()\n",
    "    model.fit(X_train, y_train)\n",
    "\n",
    "\n",
    "    y_pred = model.predict(X_test)\n",
    "\n",
    "\n",
    "    mae = mean_absolute_error(y_test, y_pred)\n",
    "    rmse = np.sqrt(mean_squared_error(y_test, y_pred))\n",
    "    r2 = r2_score(y_test, y_pred)\n",
    "\n",
    "    print(\"MAE:\", round(mae, 3))\n",
    "    print(\"RMSE:\", round(rmse, 3))\n",
    "    print(\"R²:\", round(r2, 3))\n",
    "\n",
    "def predict_car_with_LoR(data):\n",
    "    features = [\"Rooms\", \"Bedroom\", \"Bathroom\", \"Type\",\"Distance\",\"Price\"]\n",
    "    target = \"Car\"\n",
    "\n",
    "    # drop missing values\n",
    "    data = data[features + [target]].dropna().copy()\n",
    "\n",
    "    # using one hot preprocess type values\n",
    "    data = pd.get_dummies(data, columns=[\"Type\"])\n",
    "\n",
    "    X = data.drop(columns=[target])\n",
    "    y = data[\"Car\"]\n",
    "    X_train, X_test, y_train, y_test = train_test_split(\n",
    "        X, y, test_size=0.2, random_state=42, stratify=y\n",
    "    )\n",
    "\n",
    "    \n",
    "    scaler = StandardScaler()\n",
    "    X_train_scaled = scaler.fit_transform(X_train)\n",
    "    X_test_scaled = scaler.transform(X_test)\n",
    "\n",
    "    \n",
    "    model = LogisticRegression(max_iter=1000, multi_class=\"multinomial\")\n",
    "    model.fit(X_train_scaled, y_train)\n",
    "\n",
    "    print(\"Lor predict accuracy: \" + str(round(model.score(X_test_scaled, y_test) * 100, 3)) + \" %\")\n",
    "\n",
    "df = pd.read_csv(\"cleaned_melbourne_housing.csv\")\n",
    "df.loc[df[\"Car\"] >= 3, \"Car\"] = 3 \n",
    "predict_car_with_LR(df)\n",
    "predict_car_with_LoR(df)"
   ]
  },
  {
   "cell_type": "markdown",
   "id": "80147099",
   "metadata": {},
   "source": [
    "# Classify Car column with Low, Mid and high, using one-hot to deal with"
   ]
  },
  {
   "cell_type": "code",
   "execution_count": 96,
   "id": "c6859c8b",
   "metadata": {},
   "outputs": [
    {
     "name": "stderr",
     "output_type": "stream",
     "text": [
      "/var/folders/f1/_ppmdg_16qx17dhgz3ls8g440000gn/T/ipykernel_95146/258494393.py:7: FutureWarning: A value is trying to be set on a copy of a DataFrame or Series through chained assignment using an inplace method.\n",
      "The behavior will change in pandas 3.0. This inplace method will never work because the intermediate object on which we are setting values always behaves as a copy.\n",
      "\n",
      "For example, when doing 'df[col].method(value, inplace=True)', try using 'df.method({col: value}, inplace=True)' or df[col] = df[col].method(value) instead, to perform the operation inplace on the original object.\n",
      "\n",
      "\n",
      "  df[\"Car\"].fillna(1, inplace=True)\n"
     ]
    },
    {
     "name": "stdout",
     "output_type": "stream",
     "text": [
      "The number of column with missing values 3\n",
      "              Missing Count  Missing %\n",
      "BuildingArea          16588      60.89\n",
      "YearBuilt             15160      55.65\n",
      "Landsize               9262      34.00\n"
     ]
    }
   ],
   "source": [
    "import pandas as pd\n",
    "\n",
    "\n",
    "df = pd.read_csv(\"cleaned_melbourne_housing.csv\")\n",
    "\n",
    "# fill in 1 to missing value\n",
    "df[\"Car\"].fillna(1, inplace=True) \n",
    "\n",
    "\n",
    "df.loc[df[\"Car\"] >= 3, \"Car\"] = 3\n",
    "\n",
    "\n",
    "df[\"car_low\"] = (df[\"Car\"] == 0).astype(int)\n",
    "df[\"car_mid\"] = ((df[\"Car\"] >= 1) & (df[\"Car\"] <= 2)).astype(int)\n",
    "df[\"car_high\"] = (df[\"Car\"] >= 3).astype(int)\n",
    "\n",
    "# delete car col\n",
    "df = df.drop(columns=[\"Car\"])\n",
    "check_missing_value(df)\n",
    "\n",
    "df.to_csv(\"cleaned_melbourne_housing.csv\", index=False)\n"
   ]
  },
  {
   "cell_type": "markdown",
   "id": "d961159f",
   "metadata": {},
   "source": [
    "# View distribution of Yearbuild"
   ]
  },
  {
   "cell_type": "code",
   "execution_count": 97,
   "id": "87e8939d",
   "metadata": {},
   "outputs": [
    {
     "data": {
      "image/png": "[encoded data removed]",
      "text/plain": [
       "<Figure size 800x500 with 1 Axes>"
      ]
     },
     "metadata": {},
     "output_type": "display_data"
    },
    {
     "data": {
      "image/png": "[encoded data removed]",
      "text/plain": [
       "<Figure size 900x500 with 1 Axes>"
      ]
     },
     "metadata": {},
     "output_type": "display_data"
    }
   ],
   "source": [
    "import pandas as pd\n",
    "import matplotlib.pyplot as plt\n",
    "\n",
    "\n",
    "df = pd.read_csv(\"cleaned_melbourne_housing.csv\")\n",
    "\n",
    "\n",
    "plt.figure(figsize=(8,5))\n",
    "df[\"YearBuilt\"].hist(bins=30)\n",
    "plt.title(\"Distribution of YearBuilt\")\n",
    "plt.xlabel(\"Year Built\")\n",
    "plt.ylabel(\"Count\")\n",
    "plt.grid(False)\n",
    "plt.show()\n",
    "\n",
    "# drop missing value\n",
    "year_data = df[\"YearBuilt\"].dropna().astype(int)\n",
    "\n",
    "# divide year to decade\n",
    "df[\"Decade\"] = (year_data // 10) * 10\n",
    "\n",
    "decade_counts = df[\"Decade\"].value_counts().sort_index()\n",
    "\n",
    "plt.figure(figsize=(9,5))\n",
    "decade_counts.plot(kind=\"bar\")\n",
    "plt.title(\"Number of Houses Built per Decade\")\n",
    "plt.xlabel(\"Decade\")\n",
    "plt.ylabel(\"Count\")\n",
    "plt.grid(False)\n",
    "plt.show()\n",
    "\n"
   ]
  },
  {
   "cell_type": "code",
   "execution_count": 98,
   "id": "222510f6",
   "metadata": {},
   "outputs": [
    {
     "name": "stdout",
     "output_type": "stream",
     "text": [
      "YearBuilt_bin\n",
      "old        31.305859\n",
      "new_mod    23.245614\n",
      "mod        23.179411\n",
      "new        22.269116\n",
      "Name: proportion, dtype: float64\n",
      "\n",
      "Accuracy: 59.66%\n",
      "\n"
     ]
    }
   ],
   "source": [
    "from sklearn.model_selection import train_test_split\n",
    "from sklearn.preprocessing import StandardScaler,MinMaxScaler\n",
    "from sklearn.neighbors import KNeighborsClassifier\n",
    "from sklearn.metrics import accuracy_score\n",
    "\n",
    "\n",
    "\n",
    "df = pd.read_csv(\"cleaned_melbourne_housing.csv\")\n",
    "\n",
    "\n",
    "features = [\"Rooms\", \"Bedroom\", \"Bathroom\", \"Distance\", \"Type\", \"Price\",\"Propertycount\",\"Postcode\", \"car_low\",\"car_mid\",\"car_high\"]\n",
    "target = \"YearBuilt\"\n",
    "\n",
    "# delete missing values\n",
    "df = df[features + [target]].dropna().copy()\n",
    "\n",
    "df = pd.get_dummies(df, columns=[\"Type\"])\n",
    "\n",
    "\n",
    "df[\"YearBuilt_bin\"], bins = pd.qcut(df[\"YearBuilt\"], q=4, labels=[\"old\", \"mod\", \"new_mod\", \"new\"], retbins=True)\n",
    "\n",
    "\n",
    "print(df[\"YearBuilt_bin\"].value_counts(normalize=True) * 100)\n",
    "\n",
    "\n",
    "# only need to predict year_bin\n",
    "X = df.drop(columns=[\"YearBuilt\", \"YearBuilt_bin\"])\n",
    "y = df[\"YearBuilt_bin\"]\n",
    "X_train, X_test, y_train, y_test = train_test_split(X, y, test_size=0.2, random_state=42, stratify=y)\n",
    "\n",
    "scaler = StandardScaler()\n",
    "X_train_scaled = scaler.fit_transform(X_train)\n",
    "X_test_scaled = scaler.transform(X_test)\n",
    "\n",
    "\n",
    "knn = KNeighborsClassifier(n_neighbors=75, weights=\"distance\",metric= \"manhattan\")\n",
    "knn.fit(X_train_scaled, y_train)\n",
    "\n",
    "y_pred = knn.predict(X_test_scaled)\n",
    "\n",
    "acc = accuracy_score(y_test, y_pred)\n",
    "print(f\"\\nAccuracy: {acc*100:.2f}%\\n\")\n",
    "\n"
   ]
  },
  {
   "cell_type": "markdown",
   "id": "27e04102",
   "metadata": {},
   "source": [
    "# Predict yearbuilt_bin for missing values"
   ]
  },
  {
   "cell_type": "code",
   "execution_count": 99,
   "id": "66f9ecf6",
   "metadata": {},
   "outputs": [
    {
     "name": "stdout",
     "output_type": "stream",
     "text": [
      "(27244, 24)\n",
      "(27244, 24)\n",
      "Index(['Suburb', 'Address', 'Rooms', 'Type', 'Method', 'SellerG', 'Date',\n",
      "       'Distance', 'Postcode', 'Bedroom', 'Bathroom', 'Landsize',\n",
      "       'BuildingArea', 'CouncilArea', 'Latitude', 'Longtitude', 'Regionname',\n",
      "       'Propertycount', 'ParkingArea', 'Price', 'car_low', 'car_mid',\n",
      "       'car_high', 'YearBuilt_bin'],\n",
      "      dtype='object')\n",
      "(27244, 24)\n",
      "The number of column with missing values 2\n",
      "              Missing Count  Missing %\n",
      "BuildingArea          16588      60.89\n",
      "Landsize               9262      34.00\n"
     ]
    }
   ],
   "source": [
    "df_full = pd.read_csv(\"cleaned_melbourne_housing.csv\")\n",
    "print(df_full.shape)\n",
    "\n",
    "# mapping yearbuilt with bins\n",
    "df_full[\"YearBuilt_bin\"] = pd.cut(\n",
    "    df_full[\"YearBuilt\"],\n",
    "    bins=bins, \n",
    "    labels=[\"old\", \"mod\", \"new_mod\", \"new\"],\n",
    "    include_lowest=True\n",
    ")\n",
    "\n",
    "df_full = df_full.drop(columns=[\"YearBuilt\"])\n",
    "\n",
    "df_known = df_full[df_full[\"YearBuilt_bin\"].notna()].copy()\n",
    "df_missing = df_full[df_full[\"YearBuilt_bin\"].isna()].copy()\n",
    "df_missing_copy = df_missing.copy()\n",
    "\n",
    "\n",
    "\n",
    "# predict using knn model\n",
    "df_missing = pd.get_dummies(df_missing, columns=[\"Type\"])\n",
    "X_missing = df_missing[X.columns]\n",
    "X_missing_scaled = scaler.transform(X_missing)\n",
    "y_missing_pred = knn.predict(X_missing_scaled)\n",
    "\n",
    "# concat\n",
    "df_missing_copy[\"YearBuilt_bin\"] = y_missing_pred\n",
    "\n",
    "df_filled = pd.concat([df_known, df_missing_copy], axis=0)\n",
    "df_filled.sort_index(inplace=True)\n",
    "print(df_filled.shape)\n",
    "print(df_filled.columns)\n",
    "print(df_filled.shape)\n",
    "\n",
    "\n",
    "check_missing_value(df_filled)"
   ]
  },
  {
   "cell_type": "code",
   "execution_count": 100,
   "id": "cc2453f5",
   "metadata": {},
   "outputs": [],
   "source": [
    "df = pd.get_dummies(df_filled, columns=[\"Type\", \"YearBuilt_bin\"], drop_first=False)\n",
    "\n",
    "df.to_csv(\"cleaned_melbourne_housing.csv\", index=False)\n",
    "\n"
   ]
  },
  {
   "cell_type": "markdown",
   "id": "6f1bfbbb",
   "metadata": {},
   "source": [
    "# View data for land size"
   ]
  },
  {
   "cell_type": "code",
   "execution_count": 101,
   "id": "eb7d681d",
   "metadata": {},
   "outputs": [
    {
     "name": "stderr",
     "output_type": "stream",
     "text": [
      "/var/folders/f1/_ppmdg_16qx17dhgz3ls8g440000gn/T/ipykernel_95146/1195836018.py:7: FutureWarning: A value is trying to be set on a copy of a DataFrame or Series through chained assignment using an inplace method.\n",
      "The behavior will change in pandas 3.0. This inplace method will never work because the intermediate object on which we are setting values always behaves as a copy.\n",
      "\n",
      "For example, when doing 'df[col].method(value, inplace=True)', try using 'df.method({col: value}, inplace=True)' or df[col] = df[col].method(value) instead, to perform the operation inplace on the original object.\n",
      "\n",
      "\n",
      "  df[\"Landsize\"].replace(0, np.nan, inplace=True)\n"
     ]
    },
    {
     "data": {
      "text/plain": [
       "(16040, 9)"
      ]
     },
     "execution_count": 101,
     "metadata": {},
     "output_type": "execute_result"
    }
   ],
   "source": [
    "\n",
    "df = pd.read_csv(\"cleaned_melbourne_housing.csv\")\n",
    "\n",
    "df = df[[\"Landsize\", \"Rooms\", \"Bedroom\", \"Bathroom\", \"Distance\", \"Price\", \"Type_h\", \"Type_t\", \"Type_u\"]].copy()\n",
    "\n",
    "\n",
    "df[\"Landsize\"] = pd.to_numeric(df[\"Landsize\"], errors=\"coerce\")\n",
    "df[\"Landsize\"].replace(0, np.nan, inplace=True)\n",
    "df.dropna(subset=[\"Landsize\"], inplace=True)\n",
    "\n",
    "df.shape\n",
    "\n"
   ]
  },
  {
   "cell_type": "code",
   "execution_count": 102,
   "id": "56055f70",
   "metadata": {},
   "outputs": [
    {
     "data": {
      "image/png": "[encoded data removed]",
      "text/plain": [
       "<Figure size 2000x1000 with 1 Axes>"
      ]
     },
     "metadata": {},
     "output_type": "display_data"
    }
   ],
   "source": [
    "landsizes = df[df[\"Landsize\"] < 2000][\"Landsize\"].astype(int)\n",
    "\n",
    "size_counts = landsizes.value_counts().sort_index()\n",
    "\n",
    "\n",
    "plt.figure(figsize=(20,10))\n",
    "plt.bar(size_counts.index, size_counts.values)\n",
    "plt.title(\"Number of Properties for Each Landsize (1–99 m²)\", fontsize=14)\n",
    "plt.xlabel(\"Landsize\")\n",
    "plt.ylabel(\"Count\")\n",
    "plt.xticks(np.arange(0, 2001, 100))\n",
    "plt.tight_layout()\n",
    "plt.show()\n"
   ]
  },
  {
   "cell_type": "markdown",
   "id": "d6f15073",
   "metadata": {},
   "source": [
    "# Using knn to predict"
   ]
  },
  {
   "cell_type": "code",
   "execution_count": 103,
   "id": "e25f6c71",
   "metadata": {},
   "outputs": [
    {
     "name": "stdout",
     "output_type": "stream",
     "text": [
      "Landsize_bin\n",
      "large     35.554863\n",
      "medium    34.426434\n",
      "small     22.512469\n",
      "xlarge     3.640898\n",
      "tiny       2.088529\n",
      "huge       1.776808\n",
      "Name: proportion, dtype: float64\n",
      "\n",
      "Accuracy: 61.53%\n",
      "\n"
     ]
    }
   ],
   "source": [
    "from sklearn.model_selection import train_test_split\n",
    "from sklearn.preprocessing import StandardScaler\n",
    "from sklearn.neighbors import KNeighborsClassifier\n",
    "from sklearn.metrics import accuracy_score\n",
    "\n",
    "bins = [0, 100, 300, 600, 1000, 2000, np.inf]\n",
    "labels = [\"tiny\", \"small\", \"medium\", \"large\", \"xlarge\", \"huge\"]\n",
    "\n",
    "df[\"Landsize_bin\"] = pd.cut(df[\"Landsize\"], bins=bins, labels=labels, right=False)\n",
    "\n",
    "# view the persentage for each bins\n",
    "print(df[\"Landsize_bin\"].value_counts(normalize=True) * 100)\n",
    "\n",
    "features = [\"Rooms\", \"Bedroom\", \"Bathroom\", \"Distance\", \"Price\", \"Type_h\", \"Type_t\", \"Type_u\"]\n",
    "target = \"Landsize_bin\"\n",
    "\n",
    "X = df[features]\n",
    "y = df[target]\n",
    "\n",
    "X_train, X_test, y_train, y_test = train_test_split(\n",
    "    X, y, test_size=0.2, random_state=42, stratify=y\n",
    ")\n",
    "\n",
    "scaler = StandardScaler()\n",
    "X_train_scaled = scaler.fit_transform(X_train)\n",
    "X_test_scaled = scaler.transform(X_test)\n",
    "\n",
    "\n",
    "knn = KNeighborsClassifier(n_neighbors=75, weights=\"distance\", metric=\"manhattan\")\n",
    "knn.fit(X_train_scaled, y_train)\n",
    "\n",
    "\n",
    "y_pred = knn.predict(X_test_scaled)\n",
    "\n",
    "acc = accuracy_score(y_test, y_pred)\n",
    "print(f\"\\nAccuracy: {acc*100:.2f}%\\n\")\n"
   ]
  },
  {
   "cell_type": "code",
   "execution_count": 104,
   "id": "dac7644b",
   "metadata": {},
   "outputs": [
    {
     "name": "stdout",
     "output_type": "stream",
     "text": [
      "(11204, 30)\n",
      "Index(['Suburb', 'Address', 'Rooms', 'Method', 'SellerG', 'Date', 'Distance',\n",
      "       'Postcode', 'Bedroom', 'Bathroom', 'Landsize', 'BuildingArea',\n",
      "       'CouncilArea', 'Latitude', 'Longtitude', 'Regionname', 'Propertycount',\n",
      "       'ParkingArea', 'Price', 'car_low', 'car_mid', 'car_high', 'Type_h',\n",
      "       'Type_t', 'Type_u', 'YearBuilt_bin_mod', 'YearBuilt_bin_new',\n",
      "       'YearBuilt_bin_new_mod', 'YearBuilt_bin_old', 'Landsize_bin'],\n",
      "      dtype='object')\n",
      "The number of column with missing values 1\n",
      "              Missing Count  Missing %\n",
      "BuildingArea          16588      60.89\n"
     ]
    }
   ],
   "source": [
    "df_full = pd.read_csv(\"cleaned_melbourne_housing.csv\")\n",
    "\n",
    "df_full[\"Landsize\"] = pd.to_numeric(df_full[\"Landsize\"], errors=\"coerce\").replace(0, np.nan)\n",
    "\n",
    "\n",
    "df_full[\"Landsize_bin\"] = pd.cut(\n",
    "    df_full[\"Landsize\"],\n",
    "    bins=bins,\n",
    "    labels=labels,\n",
    "    include_lowest=True\n",
    ")\n",
    "\n",
    "\n",
    "df_known = df_full[df_full[\"Landsize_bin\"].notna()].copy()\n",
    "df_missing = df_full[df_full[\"Landsize_bin\"].isna()].copy()\n",
    "df_missing_copy = df_missing.copy()\n",
    "\n",
    "df_missing = df_missing[features]\n",
    "\n",
    "print(df_missing_copy.shape)\n",
    "print(df_missing_copy.columns)\n",
    "\n",
    "\n",
    "X_missing_scaled = scaler.transform(df_missing)\n",
    "y_missing_pred = knn.predict(X_missing_scaled)\n",
    "\n",
    "\n",
    "df_missing_copy[\"Landsize_bin\"] = y_missing_pred\n",
    "\n",
    "\n",
    "df_filled = pd.concat([df_known, df_missing_copy], axis=0)\n",
    "df_filled.sort_index(inplace=True)\n",
    "df_filled = df_filled.drop(columns=[\"Landsize\"])\n",
    "\n",
    "check_missing_value(df_filled)\n",
    "\n",
    "\n"
   ]
  },
  {
   "cell_type": "code",
   "execution_count": 105,
   "id": "945315ed",
   "metadata": {},
   "outputs": [],
   "source": [
    "df_filled = pd.get_dummies(df_filled, columns=[\"Landsize_bin\"])\n",
    "\n",
    "df_filled.to_csv(\"cleaned_melbourne_housing.csv\", index=False)"
   ]
  },
  {
   "cell_type": "markdown",
   "id": "6405a67b",
   "metadata": {},
   "source": [
    "# View data for BuildingArea"
   ]
  },
  {
   "cell_type": "code",
   "execution_count": 106,
   "id": "b38cb76c",
   "metadata": {},
   "outputs": [
    {
     "name": "stdout",
     "output_type": "stream",
     "text": [
      "Index(['Suburb', 'Address', 'Rooms', 'Method', 'SellerG', 'Date', 'Distance',\n",
      "       'Postcode', 'Bedroom', 'Bathroom', 'BuildingArea', 'CouncilArea',\n",
      "       'Latitude', 'Longtitude', 'Regionname', 'Propertycount', 'ParkingArea',\n",
      "       'Price', 'car_low', 'car_mid', 'car_high', 'Type_h', 'Type_t', 'Type_u',\n",
      "       'YearBuilt_bin_mod', 'YearBuilt_bin_new', 'YearBuilt_bin_new_mod',\n",
      "       'YearBuilt_bin_old', 'Landsize_bin_huge', 'Landsize_bin_large',\n",
      "       'Landsize_bin_medium', 'Landsize_bin_small', 'Landsize_bin_tiny',\n",
      "       'Landsize_bin_xlarge'],\n",
      "      dtype='object')\n"
     ]
    },
    {
     "name": "stderr",
     "output_type": "stream",
     "text": [
      "/var/folders/f1/_ppmdg_16qx17dhgz3ls8g440000gn/T/ipykernel_95146/2627755048.py:1: DtypeWarning: Columns (10) have mixed types. Specify dtype option on import or set low_memory=False.\n",
      "  df = pd.read_csv(\"cleaned_melbourne_housing.csv\")\n",
      "/var/folders/f1/_ppmdg_16qx17dhgz3ls8g440000gn/T/ipykernel_95146/2627755048.py:14: FutureWarning: A value is trying to be set on a copy of a DataFrame or Series through chained assignment using an inplace method.\n",
      "The behavior will change in pandas 3.0. This inplace method will never work because the intermediate object on which we are setting values always behaves as a copy.\n",
      "\n",
      "For example, when doing 'df[col].method(value, inplace=True)', try using 'df.method({col: value}, inplace=True)' or df[col] = df[col].method(value) instead, to perform the operation inplace on the original object.\n",
      "\n",
      "\n",
      "  df[\"BuildingArea\"].replace(0, np.nan, inplace=True)\n"
     ]
    },
    {
     "data": {
      "text/plain": [
       "(10600, 23)"
      ]
     },
     "execution_count": 106,
     "metadata": {},
     "output_type": "execute_result"
    }
   ],
   "source": [
    "df = pd.read_csv(\"cleaned_melbourne_housing.csv\")\n",
    "\n",
    "print(df.columns)\n",
    "\n",
    "df = df[['Rooms', 'Distance',\n",
    "       'Postcode', 'Bedroom', 'Bathroom', 'BuildingArea', 'car_low', 'car_mid', 'car_high', 'Type_h', 'Type_t', 'Type_u',\n",
    "       'YearBuilt_bin_mod', 'YearBuilt_bin_new', 'YearBuilt_bin_new_mod',\n",
    "       'YearBuilt_bin_old', 'Landsize_bin_huge', 'Landsize_bin_large',\n",
    "       'Landsize_bin_medium', 'Landsize_bin_small', 'Landsize_bin_tiny',\n",
    "       'Landsize_bin_xlarge','Price']].copy()\n",
    "\n",
    "\n",
    "df[\"BuildingArea\"] = pd.to_numeric(df[\"BuildingArea\"], errors=\"coerce\")\n",
    "df[\"BuildingArea\"].replace(0, np.nan, inplace=True)\n",
    "df.dropna(subset=[\"BuildingArea\"], inplace=True)\n",
    "\n",
    "df.shape\n"
   ]
  },
  {
   "cell_type": "code",
   "execution_count": 107,
   "id": "1aa856a1",
   "metadata": {},
   "outputs": [
    {
     "data": {
      "image/png": "[encoded data removed]",
      "text/plain": [
       "<Figure size 2000x1000 with 1 Axes>"
      ]
     },
     "metadata": {},
     "output_type": "display_data"
    }
   ],
   "source": [
    "BuildingArea = df[df[\"BuildingArea\"] < 2000][\"BuildingArea\"].astype(int)\n",
    "\n",
    "size_counts = BuildingArea.value_counts().sort_index()\n",
    "\n",
    "\n",
    "plt.figure(figsize=(20,10))\n",
    "plt.bar(size_counts.index, size_counts.values)\n",
    "plt.title(\"Number of Properties for Each BuildingArea (1–99 m²)\", fontsize=14)\n",
    "plt.xlabel(\"BuildingArea\")\n",
    "plt.ylabel(\"Count\")\n",
    "plt.xticks(np.arange(0, 2001, 100))\n",
    "plt.tight_layout()\n",
    "plt.show()"
   ]
  },
  {
   "cell_type": "code",
   "execution_count": 108,
   "id": "5824b21a",
   "metadata": {},
   "outputs": [
    {
     "name": "stdout",
     "output_type": "stream",
     "text": [
      "\n",
      "Accuracy: 74.20%\n",
      "\n"
     ]
    }
   ],
   "source": [
    "import pandas as pd\n",
    "import numpy as np\n",
    "from sklearn.model_selection import train_test_split\n",
    "from sklearn.preprocessing import StandardScaler\n",
    "from sklearn.neighbors import KNeighborsClassifier\n",
    "from sklearn.metrics import accuracy_score, classification_report\n",
    "\n",
    "\n",
    "\n",
    "bins = [0, 100, 200, 300, 400, 500, np.inf]\n",
    "labels = [\"0-100\", \"100-200\", \"200-300\", \"300-400\", \"400-500\", \"500+\"]\n",
    "\n",
    "df[\"BuildingArea_bin\"] = pd.cut(df[\"BuildingArea\"], bins=bins, labels=labels, include_lowest=True)\n",
    "\n",
    "\n",
    "df = df.dropna(subset=[\"BuildingArea_bin\"])\n",
    "\n",
    "\n",
    "features = [\"Rooms\", \"Bedroom\", \"Bathroom\", \"Distance\", \"Price\", \"Type_h\", \"Type_t\", \"Type_u\"]\n",
    "target = \"BuildingArea_bin\"\n",
    "\n",
    "X = df[features].copy()\n",
    "y = df[target].copy()\n",
    "\n",
    "\n",
    "X_train, X_test, y_train, y_test = train_test_split(\n",
    "    X, y, test_size=0.2, random_state=42, stratify=y\n",
    ")\n",
    "\n",
    "\n",
    "scaler = StandardScaler()\n",
    "X_train_scaled = scaler.fit_transform(X_train)\n",
    "X_test_scaled = scaler.transform(X_test)\n",
    "\n",
    "\n",
    "knn = KNeighborsClassifier(n_neighbors=75, weights=\"distance\", metric=\"manhattan\")\n",
    "knn.fit(X_train_scaled, y_train)\n",
    "\n",
    "\n",
    "y_pred = knn.predict(X_test_scaled)\n",
    "\n",
    "acc = accuracy_score(y_test, y_pred)\n",
    "print(f\"\\nAccuracy: {acc*100:.2f}%\\n\")\n",
    "\n"
   ]
  },
  {
   "cell_type": "code",
   "execution_count": 109,
   "id": "354670b0",
   "metadata": {},
   "outputs": [
    {
     "name": "stdout",
     "output_type": "stream",
     "text": [
      "(16644, 35)\n",
      "Index(['Suburb', 'Address', 'Rooms', 'Method', 'SellerG', 'Date', 'Distance',\n",
      "       'Postcode', 'Bedroom', 'Bathroom', 'BuildingArea', 'CouncilArea',\n",
      "       'Latitude', 'Longtitude', 'Regionname', 'Propertycount', 'ParkingArea',\n",
      "       'Price', 'car_low', 'car_mid', 'car_high', 'Type_h', 'Type_t', 'Type_u',\n",
      "       'YearBuilt_bin_mod', 'YearBuilt_bin_new', 'YearBuilt_bin_new_mod',\n",
      "       'YearBuilt_bin_old', 'Landsize_bin_huge', 'Landsize_bin_large',\n",
      "       'Landsize_bin_medium', 'Landsize_bin_small', 'Landsize_bin_tiny',\n",
      "       'Landsize_bin_xlarge', 'BuildingArea_bin'],\n",
      "      dtype='object')\n"
     ]
    },
    {
     "name": "stderr",
     "output_type": "stream",
     "text": [
      "/var/folders/f1/_ppmdg_16qx17dhgz3ls8g440000gn/T/ipykernel_95146/3897789504.py:1: DtypeWarning: Columns (10) have mixed types. Specify dtype option on import or set low_memory=False.\n",
      "  df_full = pd.read_csv(\"cleaned_melbourne_housing.csv\")\n"
     ]
    },
    {
     "name": "stdout",
     "output_type": "stream",
     "text": [
      "The number of column with missing values 0\n",
      "Empty DataFrame\n",
      "Columns: [Missing Count, Missing %]\n",
      "Index: []\n"
     ]
    }
   ],
   "source": [
    "df_full = pd.read_csv(\"cleaned_melbourne_housing.csv\")\n",
    "\n",
    "df_full[\"BuildingArea\"] = pd.to_numeric(df_full[\"BuildingArea\"], errors=\"coerce\").replace(0, np.nan)\n",
    "\n",
    "\n",
    "df_full[\"BuildingArea_bin\"] = pd.cut(\n",
    "    df_full[\"BuildingArea\"],\n",
    "    bins=bins,\n",
    "    labels=labels,\n",
    "    include_lowest=True\n",
    ")\n",
    "\n",
    "\n",
    "df_known = df_full[df_full[\"BuildingArea_bin\"].notna()].copy()\n",
    "df_missing = df_full[df_full[\"BuildingArea_bin\"].isna()].copy()\n",
    "df_missing_copy = df_missing.copy()\n",
    "\n",
    "df_missing = df_missing[features]\n",
    "\n",
    "print(df_missing_copy.shape)\n",
    "print(df_missing_copy.columns)\n",
    "\n",
    "\n",
    "X_missing_scaled = scaler.transform(df_missing)\n",
    "y_missing_pred = knn.predict(X_missing_scaled)\n",
    "\n",
    "\n",
    "df_missing_copy[\"BuildingArea_bin\"] = y_missing_pred\n",
    "\n",
    "\n",
    "df_filled = pd.concat([df_known, df_missing_copy], axis=0)\n",
    "df_filled.sort_index(inplace=True)\n",
    "df_filled = df_filled.drop(columns=[\"BuildingArea\"])\n",
    "\n",
    "check_missing_value(df_filled)"
   ]
  },
  {
   "cell_type": "code",
   "execution_count": 110,
   "id": "a8958f25",
   "metadata": {},
   "outputs": [],
   "source": [
    "df_filled = pd.get_dummies(df_filled, columns=[\"BuildingArea_bin\"])\n",
    "\n",
    "df_filled.to_csv(\"cleaned_melbourne_housing.csv\", index=False)"
   ]
  }
 ],
 "metadata": {
  "kernelspec": {
   "display_name": "python121",
   "language": "python",
   "name": "python3"
  },
  "language_info": {
   "codemirror_mode": {
    "name": "ipython",
    "version": 3
   },
   "file_extension": ".py",
   "mimetype": "text/x-python",
   "name": "python",
   "nbconvert_exporter": "python",
   "pygments_lexer": "ipython3",
   "version": "3.12.9"
  }
 },
 "nbformat": 4,
 "nbformat_minor": 5
}
