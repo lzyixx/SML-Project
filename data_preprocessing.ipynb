{
 "cells": [
  {
   "cell_type": "markdown",
   "id": "94d87e11",
   "metadata": {},
   "source": [
    "# Read data from csv file"
   ]
  },
  {
   "cell_type": "code",
   "execution_count": 30,
   "id": "213a7af2",
   "metadata": {},
   "outputs": [
    {
     "name": "stderr",
     "output_type": "stream",
     "text": [
      "/var/folders/f1/_ppmdg_16qx17dhgz3ls8g440000gn/T/ipykernel_42315/4038133987.py:4: DtypeWarning: Columns (13) have mixed types. Specify dtype option on import or set low_memory=False.\n",
      "  df = pd.read_csv(\"Melbourne_Housing.csv\")\n"
     ]
    },
    {
     "data": {
      "text/plain": [
       "(34857, 22)"
      ]
     },
     "execution_count": 30,
     "metadata": {},
     "output_type": "execute_result"
    }
   ],
   "source": [
    "import pandas as pd\n",
    "import numpy as np\n",
    "\n",
    "df = pd.read_csv(\"Melbourne_Housing.csv\")\n",
    "\n",
    "df.shape"
   ]
  },
  {
   "cell_type": "markdown",
   "id": "23a2f406",
   "metadata": {},
   "source": [
    "# Check missing data in csv file"
   ]
  },
  {
   "cell_type": "code",
   "execution_count": 31,
   "id": "d28f642a",
   "metadata": {},
   "outputs": [
    {
     "name": "stdout",
     "output_type": "stream",
     "text": [
      "The number of column with missing values 13\n",
      "               Missing Count  Missing %\n",
      "BuildingArea           21115      60.58\n",
      "YearBuilt              19306      55.39\n",
      "Landsize               11810      33.88\n",
      "Car                     8728      25.04\n",
      "Bathroom                8226      23.60\n",
      "Bedroom                 8217      23.57\n",
      "Latitude                7976      22.88\n",
      "Longtitude              7976      22.88\n",
      "Price                   7610      21.83\n",
      "CouncilArea                3       0.01\n",
      "Propertycount              3       0.01\n",
      "Distance                   1       0.00\n",
      "Postcode                   1       0.00\n"
     ]
    }
   ],
   "source": [
    "def check_missing_value(data):\n",
    "    missing_like_values = [\n",
    "        \"NaN\", \"nan\", \"NA\", \"N/A\", \"na\", \"null\", \"Null\", \"NULL\",\n",
    "        \"missing\", \"Missing\", \"MISSING\", \"inf\", \"Inf\", \"INF\", \"∞\", \"-inf\"\n",
    "    ]\n",
    "    # replace all missing value to NaN\n",
    "    df = data.replace(missing_like_values, np.nan)\n",
    "    df = df.replace([np.inf, -np.inf], np.nan)\n",
    "\n",
    "    # check how many column with mssing values\n",
    "    missing_count = df.isna().sum()\n",
    "    missing_percent = (missing_count / len(df)) * 100\n",
    "\n",
    "    missing_table = (\n",
    "        pd.DataFrame({\n",
    "            \"Missing Count\": missing_count[missing_count > 0],\n",
    "            \"Missing %\": missing_percent[missing_percent > 0].round(2)\n",
    "        })\n",
    "        .sort_values(by=\"Missing %\", ascending=False)\n",
    "    )\n",
    "\n",
    "    print(\"The number of column with missing values\", len(missing_table))\n",
    "    print(missing_table.head(df.shape[1]))\n",
    "\n",
    "check_missing_value(df)"
   ]
  },
  {
   "cell_type": "markdown",
   "id": "b4f1f4a8",
   "metadata": {},
   "source": [
    "# Delete all data with missing value for councilarea,propertycount,distance,postcode and price"
   ]
  },
  {
   "cell_type": "code",
   "execution_count": 32,
   "id": "1055f714",
   "metadata": {},
   "outputs": [
    {
     "name": "stdout",
     "output_type": "stream",
     "text": [
      "The number of column with missing values 8\n",
      "              Missing Count  Missing %\n",
      "BuildingArea          16588      60.89\n",
      "YearBuilt             15160      55.65\n",
      "Landsize               9262      34.00\n",
      "Car                    6821      25.04\n",
      "Bathroom               6444      23.65\n",
      "Bedroom                6438      23.63\n",
      "Latitude               6251      22.94\n",
      "Longtitude             6251      22.94\n"
     ]
    },
    {
     "data": {
      "text/plain": [
       "(27244, 22)"
      ]
     },
     "execution_count": 32,
     "metadata": {},
     "output_type": "execute_result"
    }
   ],
   "source": [
    "cols_to_drop_na = [\"Price\", \"CouncilArea\", \"Propertycount\", \"Distance\", \"Postcode\"]\n",
    "df = df.dropna(subset=cols_to_drop_na)\n",
    "\n",
    "check_missing_value(df)\n",
    "df.shape"
   ]
  },
  {
   "cell_type": "markdown",
   "id": "58a129c1",
   "metadata": {},
   "source": [
    "# Using mean value of Latitude and Longtiitude in same suburb and regionname fill in the msissing value"
   ]
  },
  {
   "cell_type": "code",
   "execution_count": 33,
   "id": "75814291",
   "metadata": {},
   "outputs": [
    {
     "name": "stdout",
     "output_type": "stream",
     "text": [
      "The number of column with missing values 6\n",
      "              Missing Count  Missing %\n",
      "BuildingArea          16588      60.89\n",
      "YearBuilt             15160      55.65\n",
      "Landsize               9262      34.00\n",
      "Car                    6821      25.04\n",
      "Bathroom               6444      23.65\n",
      "Bedroom                6438      23.63\n"
     ]
    },
    {
     "name": "stderr",
     "output_type": "stream",
     "text": [
      "/var/folders/f1/_ppmdg_16qx17dhgz3ls8g440000gn/T/ipykernel_42315/745640852.py:10: FutureWarning: A value is trying to be set on a copy of a DataFrame or Series through chained assignment using an inplace method.\n",
      "The behavior will change in pandas 3.0. This inplace method will never work because the intermediate object on which we are setting values always behaves as a copy.\n",
      "\n",
      "For example, when doing 'df[col].method(value, inplace=True)', try using 'df.method({col: value}, inplace=True)' or df[col] = df[col].method(value) instead, to perform the operation inplace on the original object.\n",
      "\n",
      "\n",
      "  df[\"Latitude\"].fillna(df[\"Latitude\"].mean(), inplace=True)\n",
      "/var/folders/f1/_ppmdg_16qx17dhgz3ls8g440000gn/T/ipykernel_42315/745640852.py:11: FutureWarning: A value is trying to be set on a copy of a DataFrame or Series through chained assignment using an inplace method.\n",
      "The behavior will change in pandas 3.0. This inplace method will never work because the intermediate object on which we are setting values always behaves as a copy.\n",
      "\n",
      "For example, when doing 'df[col].method(value, inplace=True)', try using 'df.method({col: value}, inplace=True)' or df[col] = df[col].method(value) instead, to perform the operation inplace on the original object.\n",
      "\n",
      "\n",
      "  df[\"Longtitude\"].fillna(df[\"Longtitude\"].mean(), inplace=True)\n"
     ]
    }
   ],
   "source": [
    "df[\"Latitude\"] = df.groupby([\"Suburb\", \"Regionname\"])[\"Latitude\"].transform(\n",
    "    lambda x: x.fillna(x.mean())\n",
    ")\n",
    "\n",
    "df[\"Longtitude\"] = df.groupby([\"Suburb\", \"Regionname\"])[\"Longtitude\"].transform(\n",
    "    lambda x: x.fillna(x.mean())\n",
    ")\n",
    "\n",
    "# some combination still have missing value\n",
    "df[\"Latitude\"].fillna(df[\"Latitude\"].mean(), inplace=True)\n",
    "df[\"Longtitude\"].fillna(df[\"Longtitude\"].mean(), inplace=True)\n",
    "\n",
    "check_missing_value(df)\n"
   ]
  },
  {
   "cell_type": "markdown",
   "id": "b3c2eced",
   "metadata": {},
   "source": [
    "# Fill in missing value in bedroom and Bathroom"
   ]
  },
  {
   "cell_type": "code",
   "execution_count": 34,
   "id": "984244a8",
   "metadata": {},
   "outputs": [
    {
     "name": "stdout",
     "output_type": "stream",
     "text": [
      "Bedroom\n",
      "0.0     0.937500\n",
      "1.0     1.015385\n",
      "2.0     1.142036\n",
      "3.0     1.487890\n",
      "4.0     2.058564\n",
      "5.0     2.685336\n",
      "6.0     3.054545\n",
      "7.0     3.000000\n",
      "8.0     3.777778\n",
      "9.0     7.000000\n",
      "10.0    6.000000\n",
      "12.0    5.000000\n",
      "16.0    8.000000\n",
      "20.0    1.000000\n",
      "Name: Bathroom, dtype: float64\n",
      "The number of column with missing values 4\n",
      "              Missing Count  Missing %\n",
      "BuildingArea          16588      60.89\n",
      "YearBuilt             15160      55.65\n",
      "Landsize               9262      34.00\n",
      "Car                    6821      25.04\n"
     ]
    },
    {
     "name": "stderr",
     "output_type": "stream",
     "text": [
      "/var/folders/f1/_ppmdg_16qx17dhgz3ls8g440000gn/T/ipykernel_42315/2391169290.py:2: FutureWarning: A value is trying to be set on a copy of a DataFrame or Series through chained assignment using an inplace method.\n",
      "The behavior will change in pandas 3.0. This inplace method will never work because the intermediate object on which we are setting values always behaves as a copy.\n",
      "\n",
      "For example, when doing 'df[col].method(value, inplace=True)', try using 'df.method({col: value}, inplace=True)' or df[col] = df[col].method(value) instead, to perform the operation inplace on the original object.\n",
      "\n",
      "\n",
      "  df[\"Bedroom\"].fillna(df[\"Rooms\"], inplace=True)\n"
     ]
    }
   ],
   "source": [
    "# using rooms number fill in missing value in bedroom\n",
    "df[\"Bedroom\"].fillna(df[\"Rooms\"], inplace=True)\n",
    "\n",
    "# group by bedroom，calculate avg for bathroom\n",
    "bedroom_group_mean = df.groupby(\"Bedroom\")[\"Bathroom\"].mean()\n",
    "\n",
    "print(bedroom_group_mean)\n",
    "\n",
    "df[\"Bathroom\"] = df.groupby([\"Bedroom\"])[\"Bathroom\"].transform(\n",
    "    lambda x: x.fillna(x.mean())\n",
    ")\n",
    "\n",
    "check_missing_value(df)"
   ]
  },
  {
   "cell_type": "markdown",
   "id": "f8e952c1",
   "metadata": {},
   "source": []
  },
  {
   "cell_type": "code",
   "execution_count": 35,
   "id": "1becb335",
   "metadata": {},
   "outputs": [],
   "source": [
    "df.to_csv(\"cleaned_melbourne_housing.csv\", index=False)"
   ]
  }
 ],
 "metadata": {
  "kernelspec": {
   "display_name": "python121",
   "language": "python",
   "name": "python3"
  },
  "language_info": {
   "codemirror_mode": {
    "name": "ipython",
    "version": 3
   },
   "file_extension": ".py",
   "mimetype": "text/x-python",
   "name": "python",
   "nbconvert_exporter": "python",
   "pygments_lexer": "ipython3",
   "version": "3.12.9"
  }
 },
 "nbformat": 4,
 "nbformat_minor": 5
}
